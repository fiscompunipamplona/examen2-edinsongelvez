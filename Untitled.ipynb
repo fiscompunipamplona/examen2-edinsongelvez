{
 "cells": [
  {
   "cell_type": "markdown",
   "metadata": {},
   "source": [
    "LAURA FERNANDA SOLANO Y EDINSON LEONARDO GELVEZ RODRIGUEZ\n",
    "# 5.9"
   ]
  },
  {
   "cell_type": "code",
   "execution_count": 3,
   "metadata": {},
   "outputs": [
    {
     "name": "stdout",
     "output_type": "stream",
     "text": [
      "Ingrese la Temparura:200\n",
      "Integral:  1231.477248552501\n"
     ]
    },
    {
     "data": {
      "text/plain": [
       "Text(0, 0.5, 'C_v')"
      ]
     },
     "execution_count": 3,
     "metadata": {},
     "output_type": "execute_result"
    },
    {
     "data": {
      "image/png": "[encoded data removed]",
      "text/plain": [
       "<Figure size 432x288 with 1 Axes>"
      ]
     },
     "metadata": {
      "needs_background": "light"
     },
     "output_type": "display_data"
    }
   ],
   "source": [
    "import numpy as np\n",
    "import matplotlib.pyplot as plt\n",
    "from math import*\n",
    "from numpy import*\n",
    "from pylab import *\n",
    "\n",
    "v=0.001\n",
    "p=6.022e28\n",
    "T=int(input(\"Ingrese la Temparura:\"))\n",
    "\n",
    "D=428\n",
    "kb=1.3806e-23\n",
    "C=(9)*(v)*(p)*(kb)*((T/D)**3)\n",
    "\n",
    "n=10\n",
    "b=2   #Limite superior de la integral\n",
    "a=0   #Limite inferior de la integral\n",
    "h=(b-a)/n\n",
    "\n",
    "def funcionx(x):\n",
    "    \n",
    "    f=x**4/(exp(2)-2+1/exp(x))\n",
    "    return(f)\n",
    "\n",
    "a = 0\n",
    "b = D/T\n",
    "N = 100\n",
    "\n",
    "h = (b-a)/N\n",
    "x = a\n",
    "area = 0\n",
    "for i in range(N//2):\n",
    "    deltaA = C*(h/3)*(funcionx(x)+4*funcionx(x+h)+funcionx(x+2*h))\n",
    "    area=area+deltaA\n",
    "    x = x + 2*h\n",
    "\n",
    "print('Integral: ', area)\n",
    "\n",
    "T = linspace(5,500,100)\n",
    "C= [funcionx(Ti) for Ti in T]\n",
    "plot(T,C)\n",
    "xlabel('Temperature, K')\n",
    "ylabel('C_v')"
   ]
  },
  {
   "cell_type": "markdown",
   "metadata": {},
   "source": [
    "# 5.10"
   ]
  },
  {
   "cell_type": "markdown",
   "metadata": {},
   "source": [
    "Se parte de $E=\\frac{1}{2}(m)*({\\frac{dx}{dt}}^2)+v(x)$ \n",
    "debido a que E=v(a)\n",
    "entonces v(a)=$\\frac{1}{2}(m)*({\\frac{dx}{dt}}^2)+v(x)$ \n",
    "despejando v(a)-v(x)=$\\frac{1}{2}(m)*({\\frac{dx}{dt}}^2)$\n",
    "se obtiene ${\\sqrt{\\frac{2}{m}}}*\\sqrt{v(a)}{v(x)}dt=dx$ \n",
    "$=\\int_{0}^{\\frac{T}{4}}dt$\n",
    "$=\\int \\! \\sqrt{\\frac{m}{2}}*\\frac{1}{\\sqrt{v(a)-v(x)}} \\, dx$\n",
    "$=\\frac{T}{4}= \\int \\! \\sqrt{\\frac{m}{2}}*\\frac{1}{\\sqrt{v(a)-v(x)}} \\, dx$\n",
    "$T={4}\\int \\! \\sqrt{\\frac{m}{2}}*\\frac{1}{\\sqrt{v(a)-v(x)}} \\, dx$\n",
    "$=\\int \\! \\sqrt{\\frac{16m}{2}}*\\frac{1}{\\sqrt{v(a)-v(x)}} \\, dx$\n",
    "$=\\int_{0}^{a}\\! \\sqrt{8m}*\\frac{1}{\\sqrt{v(a)-v(x)}} \\,dx$"
   ]
  },
  {
   "cell_type": "code",
   "execution_count": null,
   "metadata": {},
   "outputs": [],
   "source": [
    "from numpy import *\n",
    "from pylab import plot, show, xlabel, ylabel,legend\n",
    "from math import exp,sqrt\n",
    "from sympy import*\n",
    "m = 1\n",
    "a = 0\n",
    "r=[0,1,2]\n",
    "b = array(r,int)\n",
    "N = 20\n",
    "k=sqrt(8*m)\n",
    "x = a\n",
    "def funcionx(x):\n",
    "    f=1/sqrt(b**4-x**4)\n",
    "    return(f)\n",
    "area = 0\n",
    "for i in range(N//2):\n",
    "    deltaA = k*(h/3)*(funcionx(x)+4*funcionx(x+h)+funcionx(x+2*h))\n",
    "    area=area+deltaA\n",
    "    x = x + 2*h\n",
    "a = linspace(0,2,100)\n",
    "periodo = [funcionx(ai) for ai in a]\n",
    "\n",
    "plot(a,periodo)\n",
    "xlabel('posicion inicial')\n",
    "ylabel('periodo')"
   ]
  },
  {
   "cell_type": "markdown",
   "metadata": {},
   "source": [
    "c) se puede apreciar que a medida que la amplitud tiende a cero el periodo crece, luego son inversamente proporcionales "
   ]
  }
 ],
 "metadata": {
  "kernelspec": {
   "display_name": "Python 3",
   "language": "python",
   "name": "python3"
  },
  "language_info": {
   "codemirror_mode": {
    "name": "ipython",
    "version": 3
   },
   "file_extension": ".py",
   "mimetype": "text/x-python",
   "name": "python",
   "nbconvert_exporter": "python",
   "pygments_lexer": "ipython3",
   "version": "3.7.3"
  }
 },
 "nbformat": 4,
 "nbformat_minor": 2
}
